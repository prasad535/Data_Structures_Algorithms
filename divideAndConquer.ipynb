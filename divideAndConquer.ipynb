{
  "metadata": {
    "kernelspec": {
      "name": "python",
      "display_name": "Python (Pyodide)",
      "language": "python"
    },
    "language_info": {
      "codemirror_mode": {
        "name": "python",
        "version": 3
      },
      "file_extension": ".py",
      "mimetype": "text/x-python",
      "name": "python",
      "nbconvert_exporter": "python",
      "pygments_lexer": "ipython3",
      "version": "3.8"
    }
  },
  "nbformat_minor": 4,
  "nbformat": 4,
  "cells": [
    {
      "cell_type": "code",
      "source": "# method defination\n## Recurrence Relation: T(n) = 2T(n/2) + c\n## Time complexity: (Masters Theorem) : O(n)\n## Space Complexity == Stack Space == No of levels in the recursive tree, so space is equal to height of the tree, O(log n)\ndef findMaxAndMin(arr, i , j):\n    \n    # Base condistion : small problem, so time is constant\n    ## single element condition\n    if i == j:\n        min_value = arr[i]\n        max_value = arr[j]\n        return min_value, max_value\n    ## twon element condition\n    elif i == j-1:\n        if arr[i] > arr[j]:\n            min_value = arr[j]\n            max_value = arr[i]\n        else:\n            min_value = arr[i]\n            max_value = arr[j]\n        return min_value, max_value\n            \n    # big problem --> n/2\n    else:\n        ## divide problem into subproblems\n        ### 1. Divide\n        m = i + (j-i) // 2\n        # Conquer each subproblem\n        ### 2. Conquer --> Recursion\n        min1, max1 = findMaxAndMin(arr, i, m)\n        min2, max2 = findMaxAndMin(arr, m+1, j)\n\n    ### 3. Combine\n    # find the finalMax and finalMin \n    if min1 < min2:\n        finalMin = min1\n    else:\n        finalMin = min2\n    \n    if max1 > max2:\n        finalMax = max1\n    else:\n        finalMax = max2\n        \n    return finalMin, finalMax\n\n\n## Driver code\narr = [75, 45, 95, 50, 60, 67, 29, 32]\ni = 0\nj = len(arr) - 1\nresult = findMaxAndMin(arr, i, j)\nprint(result)",
      "metadata": {
        "trusted": true
      },
      "outputs": [
        {
          "name": "stdout",
          "text": "(29, 95)\n",
          "output_type": "stream"
        }
      ],
      "execution_count": 8
    },
    {
      "cell_type": "code",
      "source": "\n# Method defination\n# Recurence Relation: T(n) = T(n/2) + c\n# Time complexity: O(logn)\n# Space complexity: O(n), incase of skewed case recursive tree\ndef findPower(num, pow):\n\n    # Base condition\n    # small problem\n    if pow == 0:\n        return 1\n    elif pow == 1:\n        return num\n\n    # Big problem ----> n/2\n    else:\n        ## 1. Divide\n        mid = pow // 2\n        ## 2. Conquer\n        b = findPower(num, mid)\n    ## 3. combine all solutions\n    result = b * b\n\n    # \n    if pow % 2 == 0:\n        return result\n    return result*num  \n\n## Driver code\nnum = 2\npow = 5\n# function calling\nresult = findPower(num, pow)\nprint(result)",
      "metadata": {
        "trusted": true
      },
      "outputs": [
        {
          "name": "stdout",
          "text": "32\n",
          "output_type": "stream"
        }
      ],
      "execution_count": 19
    },
    {
      "cell_type": "code",
      "source": "",
      "metadata": {
        "trusted": true
      },
      "outputs": [],
      "execution_count": null
    }
  ]
}