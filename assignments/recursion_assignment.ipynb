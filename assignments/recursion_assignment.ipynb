{
 "cells": [
  {
   "cell_type": "markdown",
   "metadata": {},
   "source": [
    "### Q.1 Can you explain the logic and working of the Tower of Hanoi algorithm by writing a python program? How does the recursion work, and how are the movements of disks between rods accomplished?"
   ]
  },
  {
   "cell_type": "code",
   "execution_count": 3,
   "metadata": {},
   "outputs": [
    {
     "name": "stdout",
     "output_type": "stream",
     "text": [
      "Move disk 1 from A to C\n",
      "Move disk 2 from A to B\n",
      "Move disk 1 from C to B\n",
      "Move disk 3 from A to C\n",
      "Move disk 1 from B to A\n",
      "Move disk 2 from B to C\n",
      "Move disk 1 from A to C\n"
     ]
    }
   ],
   "source": [
    "# Method for tower of hanoi logic\n",
    "def tower_of_hanoi(disks, source, destination, middle_tower):\n",
    "    if disks == 1:\n",
    "        print(f\"Move disk 1 from {source} to {destination}\")\n",
    "        return \n",
    "    else:\n",
    "        tower_of_hanoi(disks-1, source, middle_tower, destination)\n",
    "        print(f\"Move disk {disks} from {source} to {destination}\")\n",
    "        tower_of_hanoi(disks-1, middle_tower, destination, source)\n",
    "\n",
    "# Driver code\n",
    "number_of_disks = 3\n",
    "source_tower= 'A'\n",
    "destination_tower = 'C'\n",
    "middle_tower = 'B'\n",
    "tower_of_hanoi(number_of_disks, source_tower, destination_tower, middle_tower)"
   ]
  },
  {
   "cell_type": "markdown",
   "metadata": {},
   "source": [
    "### Q.2 Given two strings word1 and word2, return the minimum number of operations required to convert word1 to word2.\n",
    "\n",
    "    Example 1:\n",
    "    Input: word1 = \"horse\", word2 = \"ros\"\n",
    "    Output: 3\n",
    "    Explanation:\n",
    "    horse -> rorse (replace 'h' with 'r')\n",
    "    rorse -> rose (remove 'r')\n",
    "    rose -> ros (remove 'e')\n",
    "\n",
    "    Example 2:\n",
    "    Input: word1 = \"intention\", word2 = \"execution\"\n",
    "    Output: 5\n",
    "    Explanation:\n",
    "    intention -> inention (remove 't')\n",
    "    inention -> enention (replace 'i' with 'e')\n",
    "    enention -> exention (replace 'n' with 'x') \n",
    "    exention -> exection (replace 'n' with 'c')\n",
    "    exection -> execution (insert 'u')"
   ]
  },
  {
   "cell_type": "code",
   "execution_count": 15,
   "metadata": {},
   "outputs": [
    {
     "name": "stdout",
     "output_type": "stream",
     "text": [
      "3\n"
     ]
    }
   ],
   "source": [
    "# Solution is find the minimu of (# of insertions, # of deletion, # replacements)\n",
    "def min_ops_to_convert(word1, word2):\n",
    "    \n",
    "    def minDistanceHelper(i, j):\n",
    "\n",
    "        # Base case\n",
    "        # 1. if word1 is full traversed it means i reached length of word1, then number of  characters remains in word2 is (len(word2)-j) represents the numbers of chars to insert\n",
    "        if i == len(word1):\n",
    "            return len(word2) - j\n",
    "        \n",
    "        if j == len(word2):\n",
    "            return len(word1) - i\n",
    "\n",
    "        # compare characters, continue \n",
    "        if word1[i] ==  word2[j]:\n",
    "            return minDistanceHelper(i+1, j+1)\n",
    "\n",
    "        # Calculate cost to number of insertations, deletions and replacements\n",
    "        # Soltion is minimum operations out of those\n",
    "        else:\n",
    "            insertions = 1 + minDistanceHelper(i, j+1)\n",
    "            deletions = 1 + minDistanceHelper(i+1, j)\n",
    "            replacements = 1 + minDistanceHelper(i+1, j+1)\n",
    "\n",
    "        return min(insertions, deletions, replacements)\n",
    "\n",
    "    return minDistanceHelper(0, 0)\n",
    "\n",
    "\n",
    "# Driver code\n",
    "word1 = \"horse\"\n",
    "word2 = \"ros\"\n",
    "\n",
    "result = min_ops_to_convert(word1 ,word2)\n",
    "print(result)"
   ]
  },
  {
   "cell_type": "markdown",
   "metadata": {},
   "source": [
    "### Q. 3 Print the max value of the array [ 13, 1, -3, 22, 5]."
   ]
  },
  {
   "cell_type": "code",
   "execution_count": 10,
   "metadata": {},
   "outputs": [
    {
     "name": "stdout",
     "output_type": "stream",
     "text": [
      "76\n"
     ]
    }
   ],
   "source": [
    "\n",
    "## Method to find the max value\n",
    "def findMax(arr, l):\n",
    "\n",
    "    # Base case if when array has only one element\n",
    "    if l == 1:\n",
    "        return arr[0]\n",
    "    # recusive call to lenght-1 to extract first element\n",
    "    find_max = findMax(arr, l-1)\n",
    "\n",
    "    # compare recusion element with next element and update max value\n",
    "    if find_max > arr[l-1]:\n",
    "        return find_max\n",
    "    else:\n",
    "        return arr[l-1]\n",
    "    \n",
    "\n",
    "## Driver code\n",
    "arr = [3, 7, 3, 76, 3, 56]\n",
    "result = findMax(arr, len(arr))\n",
    "print(result)"
   ]
  },
  {
   "cell_type": "markdown",
   "metadata": {},
   "source": [
    "### Q.4 Find the sum of the values of the array [92, 23, 15, -20, 10]."
   ]
  },
  {
   "cell_type": "code",
   "execution_count": 9,
   "metadata": {},
   "outputs": [
    {
     "name": "stdout",
     "output_type": "stream",
     "text": [
      "22\n"
     ]
    }
   ],
   "source": [
    "\n",
    "## Method to find the SUM value\n",
    "def findSum(arr):\n",
    "\n",
    "    # Base case, Sum is first element when array has one element\n",
    "    if len(arr) == 1:\n",
    "        return arr[0]\n",
    "    \n",
    "    # Recursive call\n",
    "    # Extract first element and run recusion of from array element 1 index\n",
    "    # Sum first extracted element with following recusion calls to get the total sum\n",
    "    else:\n",
    "        return arr[0]+findSum(arr[1:])\n",
    "        \n",
    "## Driver code\n",
    "arr = [3, 7, 3, 6, 3]\n",
    "result = findSum(arr)\n",
    "print(result)"
   ]
  },
  {
   "cell_type": "markdown",
   "metadata": {},
   "source": [
    "### Q.5 Given a number n. Print if it is an armstrong number or not.An armstrong number is a number if the sum of every digit in that number raised to the power of total digits in that number is equal to the number.\n",
    "\n",
    "    Example : 153 = 1^3 + 5^3 + 3^3 = 1 + 125 + 27 = 153 hence 153 is an armstrong number. (Easy)\n",
    "    Input1 : 153\n",
    "    Output1 : Yes\n",
    "\n",
    "    Input 2 : 134\n",
    "    Output2 : No"
   ]
  },
  {
   "cell_type": "code",
   "execution_count": 6,
   "metadata": {},
   "outputs": [
    {
     "name": "stdout",
     "output_type": "stream",
     "text": [
      "Yes\n"
     ]
    }
   ],
   "source": [
    "#Method to find the armstrong number\n",
    "def check_armstrong_number(n, l):\n",
    "\n",
    "    # Base Case\n",
    "    if n < 9:\n",
    "        return n\n",
    "\n",
    "    # Recursive call \n",
    "    else:\n",
    "        # n%10 extract the last digit from the number\n",
    "        # n//10 update the value\n",
    "        return (n%10)**l + check_armstrong_number(n // 10, l) \n",
    "\n",
    "# Driver code\n",
    "n = 153\n",
    "result = armstrom_number(153, l = len(str(n)))\n",
    "\n",
    "# Armstrong condition\n",
    "if n == result:\n",
    "    print(\"Yes\")\n",
    "else:\n",
    "    print(\"NO\")"
   ]
  }
 ],
 "metadata": {
  "kernelspec": {
   "display_name": "Python 3.8.10 64-bit",
   "language": "python",
   "name": "python3"
  },
  "language_info": {
   "codemirror_mode": {
    "name": "ipython",
    "version": 3
   },
   "file_extension": ".py",
   "mimetype": "text/x-python",
   "name": "python",
   "nbconvert_exporter": "python",
   "pygments_lexer": "ipython3",
   "version": "3.8.10"
  },
  "orig_nbformat": 4,
  "vscode": {
   "interpreter": {
    "hash": "e7370f93d1d0cde622a1f8e1c04877d8463912d04d973331ad4851f04de6915a"
   }
  }
 },
 "nbformat": 4,
 "nbformat_minor": 2
}
