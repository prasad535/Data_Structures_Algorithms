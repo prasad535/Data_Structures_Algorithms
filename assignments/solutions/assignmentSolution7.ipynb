{
 "cells": [
  {
   "cell_type": "markdown",
   "id": "6874bfa7-9eb1-4fcc-a3dd-1b9eec1b16d5",
   "metadata": {},
   "source": [
    "# Divide And Conquer"
   ]
  },
  {
   "cell_type": "markdown",
   "id": "64ca7349-87e0-449e-8697-110b858c68e9",
   "metadata": {},
   "source": [
    "This approach is used to solve the problems\n",
    "\n",
    "1. Divide the problem into various subproblems\n",
    "2. Conquer the each the subproblem\n",
    "3. Combine all the solutions"
   ]
  },
  {
   "cell_type": "markdown",
   "id": "403ff080-ca05-4920-9eff-b650c4ece1e5",
   "metadata": {},
   "source": [
    "## Find max and min"
   ]
  },
  {
   "cell_type": "code",
   "execution_count": 2,
   "id": "9ea47d94-207f-4dbe-984e-f1e209ffe10f",
   "metadata": {},
   "outputs": [
    {
     "name": "stdout",
     "output_type": "stream",
     "text": [
      "29\n",
      "95\n"
     ]
    }
   ],
   "source": [
    "## Method defination\n",
    "def findMaxMin(arr, i , j):\n",
    "    \n",
    "    if i == j:\n",
    "        low = arr[i]\n",
    "        high = arr[i]\n",
    "        \n",
    "        return low, high\n",
    "    elif i == j-1:\n",
    "        if arr[i] < arr[j]:\n",
    "            low = arr[i]\n",
    "            high = arr[j]\n",
    "        else:\n",
    "            low = arr[j]\n",
    "            high = arr[i]\n",
    "        return low, high\n",
    "    else:\n",
    "        mid = i + (j-i)//2\n",
    "        min1, max1 = findMaxMin(arr, i, mid)\n",
    "        min2, max2 = findMaxMin(arr, mid+1, j)\n",
    "        \n",
    "    if min1 < min2:\n",
    "        finalMin = min1\n",
    "    else:\n",
    "        finalMin = min2\n",
    "    \n",
    "    if max1 > max2:\n",
    "        finalMax = max1\n",
    "    else:\n",
    "        finalMax = max2\n",
    "    \n",
    "    return finalMin, finalMax\n",
    "\n",
    "\n",
    "## Driver code\n",
    "arr = [75, 45, 95, 50, 60, 67, 29, 32]\n",
    "i = 0\n",
    "j = len(arr) - 1\n",
    "minimum, maximum = findMaxMin(arr, i , j)\n",
    "print(minimum)\n",
    "print(maximum)"
   ]
  },
  {
   "cell_type": "markdown",
   "id": "c7700a6a-ee73-4088-b87d-c44fe01634c8",
   "metadata": {},
   "source": [
    "# Coding Questions"
   ]
  },
  {
   "cell_type": "markdown",
   "id": "207077a6-816e-4593-a3c7-30c47a97a261",
   "metadata": {},
   "source": [
    "## Assignment 7"
   ]
  },
  {
   "cell_type": "markdown",
   "id": "088c734c-b54b-4834-a911-55d4cf9c76e2",
   "metadata": {},
   "source": [
    "### **2. Given three points, check whether they lie on a straight line(collinear) or not.**\n",
    "\n",
    "For example\n",
    "- INPUT: [(1,1),(1,6), (0,9)\n",
    "- OUTPUT: False\n"
   ]
  },
  {
   "cell_type": "markdown",
   "id": "85536d08-a6dd-4dd4-a411-e4d93469c826",
   "metadata": {},
   "source": [
    "**Apprach1**\n",
    "\n",
    "- Back in schools, we know that if three points are collinear then the slope from (point1 and point2) is equal to (point2 and point3)\n",
    "- Slope of 2 points is `(y2-y1)/(x2-x1)`\n",
    "- In our problem, the slope formula for point1 and point2 is `(y2-y1)/(x2-x1)` and the slope formula for point2 and point3 is `(y3-y2)/(x3-x2)`. Here these 2 values are euqal. \n",
    "- After solving we will get equation `(y2-y1)*(x3-x2) == (y3-y2)*(x2-x1)`"
   ]
  },
  {
   "cell_type": "code",
   "execution_count": 14,
   "id": "6fe65ed6-1ba2-44cd-bb63-e05d40a25d2b",
   "metadata": {},
   "outputs": [
    {
     "name": "stdout",
     "output_type": "stream",
     "text": [
      "Collinear: False\n"
     ]
    }
   ],
   "source": [
    "## Method defination\n",
    "def CheckCollinear(arr):\n",
    "    \n",
    "    ## Assign each tuple as each point\n",
    "    point1 = arr[0]\n",
    "    point2 = arr[1]\n",
    "    point3 = arr[2]\n",
    "    \n",
    "    # Exatract and assign values from points\n",
    "    x1, y1 = point1[0], point1[1]\n",
    "    x2, y2 = point2[0], point2[1]\n",
    "    x3, y3 = point3[0], point3[1]\n",
    "    \n",
    "    status = False\n",
    "    \n",
    "    # check slopes quality\n",
    "    if (y2-y1)*(x3-x2) == (y3-y2)*(x2-x1):\n",
    "        status = True\n",
    "        \n",
    "    return status\n",
    "\n",
    "## Drive code\n",
    "arr = [(1,1), (1,6), (0,9)]\n",
    "#arr = [(1,1), (1,4), (1,5)]\n",
    "## functionCalling\n",
    "result = CheckCollinear(arr)\n",
    "print(f\"Collinear: {result}\")\n"
   ]
  },
  {
   "cell_type": "markdown",
   "id": "083a9813-c9d8-40fc-9466-2f5ff5356949",
   "metadata": {},
   "source": [
    "**Apprach2**\n",
    "\n",
    "- if points are collinear then the area of ABC is equal to Zero.\n",
    "\n",
    "Area = `0.5 *[x1(ye2-y3) + x2(y3-y1) + x3(y1-y1)]`"
   ]
  },
  {
   "cell_type": "code",
   "execution_count": 18,
   "id": "bb028849-0d3a-4075-ae43-61d6327bc0cc",
   "metadata": {},
   "outputs": [
    {
     "name": "stdout",
     "output_type": "stream",
     "text": [
      "Collinear: False\n"
     ]
    }
   ],
   "source": [
    "## Method defination\n",
    "def CheckCollinearSolution2(arr):\n",
    "    \n",
    "    ## Assign each tuple as each point\n",
    "    point1 = arr[0]\n",
    "    point2 = arr[1]\n",
    "    point3 = arr[2]\n",
    "    \n",
    "    # Exatract and assign values from points\n",
    "    x1, y1 = point1[0], point1[1]\n",
    "    x2, y2 = point2[0], point2[1]\n",
    "    x3, y3 = point3[0], point3[1]\n",
    "    \n",
    "    area = 0.5*(x1*(y2-y3) + x2*(y3-y2) + x3*(y1-y2))\n",
    "    \n",
    "    status = False\n",
    "    \n",
    "    # check slopes quality\n",
    "    if area == 0:\n",
    "        status = True\n",
    "        \n",
    "    return status\n",
    "\n",
    "## Drive code\n",
    "# arr = [(1,1), (1,6), (0,9)]\n",
    "arr = [(1,1), (1,4), (1,5)]\n",
    "## functionCalling\n",
    "result = CheckCollinearSolution2(arr)\n",
    "print(f\"Collinear: {result}\")\n"
   ]
  },
  {
   "cell_type": "markdown",
   "id": "c9571550-a187-421d-9cc2-6cd988b1bffa",
   "metadata": {},
   "source": [
    "#### **Q4. An almost sorted array is given to us and the task is to sort that array completely. then which sorting algorithm would you prefer and why?**\n",
    "\n",
    "\n",
    "**Ans:** `Insertion Sort`\n",
    "\n",
    "**Reason:** When the array is almost sorted, the insertion sort gives linear complexity because we dont need to perform swaps. "
   ]
  },
  {
   "cell_type": "markdown",
   "id": "625bcf2f-0b47-4343-9925-0b9d08363094",
   "metadata": {},
   "source": [
    "#### **Q3. An e-commerce site tracks the pruchases made each day. The product that is purchased that most one day is the featured product for the following day. If there is a tie for the product purchased most frequently. those product names are ordered alphabetically ascending and the last name in the list is chosen.**\n",
    "\n",
    "For Example\n",
    "\n",
    "arr = ['yellowShirt', 'redHat', 'blackShirt', 'bluePants', 'redHat', 'pintHat', 'blackShirt', 'yellowShirt', 'greenPants', 'greenPants', 'greenPants']\n",
    "\n",
    "Output: greenPants"
   ]
  },
  {
   "cell_type": "code",
   "execution_count": 8,
   "id": "86dffa87-86ba-48dc-a8ae-29e5d96ab055",
   "metadata": {},
   "outputs": [
    {
     "name": "stdout",
     "output_type": "stream",
     "text": [
      "Featured product is: greenPants\n"
     ]
    }
   ],
   "source": [
    "## Method defination\n",
    "\n",
    "def featuredProduct(arr):\n",
    "    \n",
    "    # Empty dict to count the frequency of each item\n",
    "    products = {}\n",
    "    \n",
    "    for item in arr:\n",
    "        # if item not it dict, add first once\n",
    "        if item not in products.keys():\n",
    "            products[item] = 1\n",
    "        # if item already present in dict, increment the product count\n",
    "        else:\n",
    "            products[item]+=1\n",
    "            \n",
    "    ## Sort the products according to value \n",
    "    sortedProducts = dict(sorted(products.items(), key= lambda x: x[1]))\n",
    "    return list(sortedProducts.keys())[-1]\n",
    "\n",
    "\n",
    "## Drive code\n",
    "arr = ['yellowShirt', 'redHat', 'blackShirt', 'bluePants', 'redHat', 'pintHat', 'blackShirt', 'yellowShirt', 'greenPants', 'greenPants']\n",
    "result = featuredProduct(arr)\n",
    "print(f\"Featured product is: {result}\")"
   ]
  },
  {
   "cell_type": "markdown",
   "id": "236a590b-3631-4f20-8bdd-cca0e3f54c05",
   "metadata": {},
   "source": [
    "#### **Q1. Given an integer array nums of length n and an integer target, find the three integers in nums such that the sum is closest to the target.**\n",
    "\n",
    "For Example?\n",
    "\n",
    "- Input: [-1,2,1,4], target = 1\n",
    "- Output: [-1+2+1] = 2 (The sum that closest to the target is 2)"
   ]
  },
  {
   "cell_type": "markdown",
   "id": "b4658cc2-974b-4efb-89d5-2539e7292f1f",
   "metadata": {},
   "source": [
    "**Bruteforce Approach1**\n",
    "\n",
    "- Time complexity: `O(n^3)`\n",
    "- Space Complexity: `O(n)`"
   ]
  },
  {
   "cell_type": "code",
   "execution_count": 17,
   "id": "81d48593-7ac1-4c27-a2a7-6fc2083384f4",
   "metadata": {},
   "outputs": [
    {
     "name": "stdout",
     "output_type": "stream",
     "text": [
      "closet sum of three is: 1\n"
     ]
    }
   ],
   "source": [
    "## Bruteforce approach\n",
    "## Method defination\n",
    "def closetSum(arr, target):\n",
    "    n = len(arr)\n",
    "    distance = []\n",
    "    for i in range(n):\n",
    "        for j in range(i+1, n):\n",
    "            for k in range(j+1, n):\n",
    "                ## calculate sum of each combination\n",
    "                total = arr[i] + arr[j] + arr[k]\n",
    "                ## distance between total and target\n",
    "                diff = total - target\n",
    "                ## Add difference to new list\n",
    "                distance.append(diff)\n",
    "    ## Return min from the distance and the target because we difference before\n",
    "    return min(distance) + target\n",
    "\n",
    "## Driver code\n",
    "arr = [-1, 2, 4, 0]\n",
    "target = 2\n",
    "## function calling\n",
    "result = closetSum(arr, target)\n",
    "print(f\"closet sum of three is: {result}\")"
   ]
  },
  {
   "cell_type": "code",
   "execution_count": 27,
   "id": "61d5c9ed-19d8-4282-b2e1-d6bb64283b8b",
   "metadata": {},
   "outputs": [
    {
     "name": "stdout",
     "output_type": "stream",
     "text": [
      "closet sum of three is: 2\n"
     ]
    }
   ],
   "source": [
    "## Bruteforce approach2\n",
    "## Method defination\n",
    "def closetSum(arr, target):\n",
    "    n = len(arr)\n",
    "    currentMinimum = float('inf')\n",
    "    for i in range(n):\n",
    "        for j in range(i+1, n):\n",
    "            for k in range(j+1, n):\n",
    "                ## calculate sum of each combination\n",
    "                total = arr[i] + arr[j] + arr[k]\n",
    "                ## distance between total and target\n",
    "                if abs(target - currentMinimum) > abs(target - total):\n",
    "                    currentMinimum = total\n",
    "    ## Return min from the distance and the target because we difference before\n",
    "    return currentMinimum\n",
    "\n",
    "## Driver code\n",
    "arr = [-1, 2, 1, 4]\n",
    "target = 1\n",
    "## function calling\n",
    "result = closetSum(arr, target)\n",
    "print(f\"closet sum of three is: {result}\")"
   ]
  },
  {
   "cell_type": "markdown",
   "id": "b968f9f4-c4a2-474f-a14f-e7ea706a47c5",
   "metadata": {},
   "source": [
    "**Approach2**\n",
    "- Here, We are using two pointer approach\n",
    "- first we will fix the first element three elements and use pointers for remaining 2 elements.\n",
    "\n",
    "Time Complexity: O(n^2)\n",
    "\n",
    "Space Complexity: O(1)"
   ]
  },
  {
   "cell_type": "code",
   "execution_count": 6,
   "id": "02ea6c25-c339-4749-882f-053ae2ea0ced",
   "metadata": {},
   "outputs": [
    {
     "name": "stdout",
     "output_type": "stream",
     "text": [
      "closet sum of three is: 2\n"
     ]
    }
   ],
   "source": [
    "## Approach3\n",
    "## function defination\n",
    "\n",
    "def closetSumSolution3(arr, target):\n",
    "    \n",
    "    arr.sort()\n",
    "    n = len(arr)\n",
    "    curClosetSum = float('inf')\n",
    "    \n",
    "    for i in range(n):\n",
    "        # first element\n",
    "        first = arr[i]\n",
    "        \n",
    "        # pointer for second element\n",
    "        pointer1 = i+1\n",
    "        # pointer for second element\n",
    "        pointer2 = len(arr) - 1\n",
    "        \n",
    "        while pointer1 < pointer2:\n",
    "            total = first + arr[pointer1] + arr[pointer2]\n",
    "            # differnce between curr closet to previoud calculate\n",
    "            if abs(target - total) < abs(total - curClosetSum):\n",
    "                curClosetSum = total\n",
    "                \n",
    "            # Move towards Right sub tree\n",
    "            if total < curClosetSum:\n",
    "                pointer+=1\n",
    "            ## Move towards left sub tree\n",
    "            else:\n",
    "                pointer2-=1\n",
    "    return curClosetSum\n",
    "    \n",
    "## Driver code\n",
    "arr = [-1, 2, 1, 4]\n",
    "target = 1\n",
    "## function calling\n",
    "result = closetSumSolution3(arr, target)\n",
    "print(f\"closet sum of three is: {result}\")"
   ]
  },
  {
   "cell_type": "code",
   "execution_count": null,
   "id": "16026698-e02f-48cb-ab3c-0f9de400e664",
   "metadata": {},
   "outputs": [],
   "source": []
  }
 ],
 "metadata": {
  "kernelspec": {
   "display_name": "Python 3 (ipykernel)",
   "language": "python",
   "name": "python3"
  },
  "language_info": {
   "codemirror_mode": {
    "name": "ipython",
    "version": 3
   },
   "file_extension": ".py",
   "mimetype": "text/x-python",
   "name": "python",
   "nbconvert_exporter": "python",
   "pygments_lexer": "ipython3",
   "version": "3.10.8"
  }
 },
 "nbformat": 4,
 "nbformat_minor": 5
}
