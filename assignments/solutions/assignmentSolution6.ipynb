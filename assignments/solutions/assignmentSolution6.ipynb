{
 "cells": [
  {
   "cell_type": "code",
   "execution_count": 8,
   "id": "d9f5eb13-527d-499f-bb24-5aa49053af4f",
   "metadata": {},
   "outputs": [
    {
     "name": "stdout",
     "output_type": "stream",
     "text": [
      "[27, 22, 10, 18, 12, 7, 8, 16, 9, 3, 1]\n"
     ]
    }
   ],
   "source": [
    "## Method defination for heapify\n",
    "def heapify(arr, n, i):\n",
    "    ## parent element\n",
    "    largest = i\n",
    "    ## left child\n",
    "    left = 2*i + 1\n",
    "    ## right child\n",
    "    right = 2*i + 2\n",
    "    \n",
    "    ## left child does not greater than total nodes\n",
    "    ## left child less than the parent \n",
    "    ## then update smallest index for swaping\n",
    "    if left < n and arr[left] > arr[largest]:\n",
    "        largest = left\n",
    "    ## right child does not greater than total nodes\n",
    "    ## right child the parent \n",
    "    ## then update smallest index for swaping\n",
    "    if right < n and arr[right] > arr[largest]:\n",
    "        largest = right\n",
    "    \n",
    "    ## if parent is not the smallest then swap \n",
    "    if largest != i:\n",
    "        arr[i] , arr[largest] = arr[largest], arr[i]\n",
    "        ## Do swap for the below level of the present parent\n",
    "        heapify(arr, n, largest)\n",
    "\n",
    "## Method defination for building heap\n",
    "def buildHeap(arr, n):\n",
    "    ## Index of the highest non-leaf node\n",
    "    startIndex = n//2 - 1\n",
    "    ## for each node\n",
    "    for i in range(startIndex, -1, -1):\n",
    "        heapify(arr, n, i)\n",
    "        \n",
    "    return arr\n",
    "\n",
    "\n",
    "## Driver code\n",
    "arr = [1,3, 7, 9, 12, 10, 8, 16, 18, 22, 27]\n",
    "n = len(arr)\n",
    "## function calling\n",
    "result = buildHeap(arr, n)\n",
    "print(result)"
   ]
  },
  {
   "cell_type": "markdown",
   "id": "89737c46-8329-41cc-8e64-b6f6388fc506",
   "metadata": {},
   "source": [
    "#### **Q2. Given an array of strings words and an integer k, return the k most frequent words.your output should be in lexicographical order.**\n",
    "\n",
    "Words = ['priya', 'bhatia', 'akshay', 'arpit', 'priya', 'arpit']\n",
    "\n",
    "k = 3\n",
    "\n",
    "output: ['arpit', 'akshay', 'priya']"
   ]
  },
  {
   "cell_type": "code",
   "execution_count": 29,
   "id": "8844758e-6689-4aa4-8e7b-eb9afa2082e0",
   "metadata": {},
   "outputs": [
    {
     "name": "stdout",
     "output_type": "stream",
     "text": [
      "['priya', 'arpit', 'akshay']\n"
     ]
    }
   ],
   "source": [
    "## Method defination\n",
    "def topFrequentWords(arr, k):\n",
    "    uniqueWords = {}\n",
    "    for item in arr:\n",
    "        if item not in uniqueWords.keys():\n",
    "            uniqueWords[item] = 1\n",
    "        else:\n",
    "            uniqueWords[item] += 1\n",
    "    return sorted(uniqueWords, key=lambda x: x[1], reverse=True)[0:k]\n",
    "\n",
    "## Driver code\n",
    "words = ['priya', 'bhatia', 'akshay', 'arpit', 'priya', 'arpit']\n",
    "k = 3\n",
    "## function calling\n",
    "result = topFrequentWords(words, k)\n",
    "print(result)"
   ]
  },
  {
   "cell_type": "markdown",
   "id": "f8d3c73c-edc8-4fe1-955a-b21526bf61d7",
   "metadata": {},
   "source": [
    "#### **Q3. Find the k closest points to the origin**\n",
    "\n",
    "- Points: [(1,3), [-2,2]], k=1\n",
    "- Output = [-2,2]"
   ]
  },
  {
   "cell_type": "code",
   "execution_count": 6,
   "id": "bed06b1e-35f5-4870-ab6c-42a0c89d543f",
   "metadata": {},
   "outputs": [
    {
     "name": "stdout",
     "output_type": "stream",
     "text": [
      "[[3, 3], [-2, 4]]\n"
     ]
    }
   ],
   "source": [
    "## method defination\n",
    "def square(n):\n",
    "    return n*n\n",
    "\n",
    "def squareRoot(num):\n",
    "    return num**0.5\n",
    "\n",
    "def k_closestPoints(arr, k):\n",
    "    n = len(arr)\n",
    "    \n",
    "    # Extra space to store tuples with point and distance: Space: O(n)\n",
    "    pointsWithDistance = []\n",
    "    \n",
    "    ## loop over the points to find the distance: Time: O(n)\n",
    "    for i in range(n):\n",
    "        ## Calculate distance: Time - O(1)\n",
    "        dis = square(arr[i][0]) + square(arr[i][1])\n",
    "        ## Insert tuple of points plus distance : Time: O(1)\n",
    "        pointsWithDistance.append((arr[i], dis))\n",
    "    # Sort the points accoding to the distance: Time - O(nlogn)\n",
    "    dSorted = sorted(pointsWithDistance, key = lambda x: x[1])\n",
    "    \n",
    "    ## Select only k points - Space: O(n) + (k)\n",
    "    return [point for point, _ in dSorted][:k]\n",
    "        \n",
    "# Driver code\n",
    "points = [[3, 3], [5, -1], [-2, 4]]\n",
    "k = 2\n",
    "## function calling\n",
    "result = k_closestPoints(points, k)\n",
    "print(result)"
   ]
  },
  {
   "cell_type": "code",
   "execution_count": null,
   "id": "8591d92d-ae7a-4f01-92db-f2d5328d82fd",
   "metadata": {},
   "outputs": [],
   "source": []
  }
 ],
 "metadata": {
  "kernelspec": {
   "display_name": "Python 3 (ipykernel)",
   "language": "python",
   "name": "python3"
  },
  "language_info": {
   "codemirror_mode": {
    "name": "ipython",
    "version": 3
   },
   "file_extension": ".py",
   "mimetype": "text/x-python",
   "name": "python",
   "nbconvert_exporter": "python",
   "pygments_lexer": "ipython3",
   "version": "3.10.8"
  }
 },
 "nbformat": 4,
 "nbformat_minor": 5
}
