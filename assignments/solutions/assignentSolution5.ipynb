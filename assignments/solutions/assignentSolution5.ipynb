{
 "cells": [
  {
   "cell_type": "markdown",
   "id": "623a2bfb-19d4-469d-b135-f5c33ee9f64c",
   "metadata": {},
   "source": [
    "# Assignment 5"
   ]
  },
  {
   "cell_type": "markdown",
   "id": "c936e815-3043-4eb9-a8ce-d7070932d484",
   "metadata": {},
   "source": [
    "#### **Q. Computer and return the square root of x, where x is guaranteed to be a non-negative integer. And since the return type is an integer the decimal digits are truncated and only the integer part of the result is returned. Also, talk about the complexity of your code.**\n",
    "\n",
    "**Test Cases1**: \n",
    "- Input: 4\n",
    "- Output: 2\n",
    "\n",
    "**Test Cases2**: \n",
    "- Input: 8\n",
    "- Output: 2\n",
    "\n",
    "Explanation: The Square root of 8 is 2.8282..., the decimal part is truncated and 2 is retuned.\n",
    "\n",
    "Hint: Try to use a modified binary search approach for an optimized solution.\n"
   ]
  },
  {
   "cell_type": "code",
   "execution_count": 7,
   "id": "2ede3503-143a-4039-867a-dff54aa96dac",
   "metadata": {},
   "outputs": [
    {
     "name": "stdout",
     "output_type": "stream",
     "text": [
      "Square root of 31 after truncate is: 5\n"
     ]
    }
   ],
   "source": [
    "## Time Complexity: O(logn)\n",
    "## Space Complexity: O(1)\n",
    "## Method defination\n",
    "def squareRoot(n):\n",
    "    \n",
    "    ## if n is given as 0\n",
    "    ## Time - O(1)\n",
    "    if n == 0:\n",
    "        return 0\n",
    "    \n",
    "    ## square root lies from 1 to n\n",
    "    ## Time - O(1)\n",
    "    left, right = 1, n\n",
    "    \n",
    "    ## Time - O(1)\n",
    "    result = 0\n",
    "    \n",
    "    ## Time : O(logn)\n",
    "    while left <= right:\n",
    "        # 1. divide\n",
    "        mid = left + (right - left) // 2\n",
    "        ## condition to check the square\n",
    "        if mid <= n // mid:\n",
    "            result = mid\n",
    "            ## Move towars left sub tree\n",
    "            left = mid + 1\n",
    "        ## Move towards right sub tree\n",
    "        else:\n",
    "            right = mid - 1\n",
    "    return result\n",
    "    \n",
    "\n",
    "## Driver code\n",
    "num = 31\n",
    "## function calling\n",
    "result = squareRoot(num)\n",
    "print(f\"Square root of {num} after truncate is: {result}\")"
   ]
  },
  {
   "cell_type": "markdown",
   "id": "de5fa4ea-bd40-4891-af77-3a338dc95277",
   "metadata": {},
   "source": [
    "#### **Q2. You are a product manager and currently leading a team to develop a new product. Unfortunately, the latest version of your product fails the quality check. Since each version is developed based on the previous version, all the versions after a bad version also bad. supposer you have n version and you want to find bad one, which causes all the following ones to be bad. also, talk about the time complexity of your code.**\n",
    "\n",
    "**Test Case1**\n",
    "- Input: [0,0,0,1,1,1,1,1,1]\n",
    "- Output: 3\n",
    "\n",
    "Explantion: O indicates a good version and 1 indicates a bad version. So, the index of the first 1 is at 3. Thus, the output is 3"
   ]
  },
  {
   "cell_type": "code",
   "execution_count": 6,
   "id": "b66b3bd7-763f-4bb2-8e4d-1523247bb060",
   "metadata": {},
   "outputs": [
    {
     "name": "stdout",
     "output_type": "stream",
     "text": [
      "first bad version present at: 0\n"
     ]
    }
   ],
   "source": [
    "## Method defination\n",
    "def firstBadVersion(arr):\n",
    "    \n",
    "    # pointers for search space\n",
    "    left, right = 0, len(arr)-1\n",
    "    \n",
    "    \n",
    "    while left <= right:\n",
    "        ## Divide\n",
    "        mid = left + (right - left) // 2\n",
    "        \n",
    "        ## check if its a bad version\n",
    "        if arr[mid] == 1:\n",
    "            ## if not first bad, move left subtree\n",
    "            if arr[mid-1] == 1:\n",
    "                right = mid - 1\n",
    "            else:\n",
    "                return mid\n",
    "        ## if good version, moves towards right subtree\n",
    "        else:\n",
    "            left = mid + 1\n",
    "    return mid\n",
    "\n",
    "\n",
    "## Driver code\n",
    "arr = [1,1,1,1,1,1]\n",
    "\n",
    "## function calling\n",
    "result = firstBadVersion(arr)\n",
    "print(f\"first bad version present at: {result}\")"
   ]
  },
  {
   "cell_type": "markdown",
   "id": "6c9fd04d-d178-41bf-a2f5-807652e0baf3",
   "metadata": {},
   "source": [
    "#### **Q3. Given a positive integer num, write a program that returns True if num is perfect square else return False. Do not built-in functions like sqrt. Also, talk about the time complexity of your code.**\n",
    "\n",
    "**Test Case1**\n",
    "- Input: 16\n",
    "- Output: True\n",
    "\n",
    "**Test Case2**\n",
    "- Input: 14\n",
    "- Output: False"
   ]
  },
  {
   "cell_type": "code",
   "execution_count": 10,
   "id": "16386fb9-3196-43d8-bbf5-7b103d89c6d0",
   "metadata": {},
   "outputs": [
    {
     "name": "stdout",
     "output_type": "stream",
     "text": [
      "False\n"
     ]
    }
   ],
   "source": [
    "## Method definaton\n",
    "\n",
    "\n",
    "def perfectSquare(num):\n",
    "    \n",
    "    result = False\n",
    "    low, high = 0, num//2\n",
    "    for i in range(low, high):\n",
    "        if i*i == num:\n",
    "            result = True\n",
    "            \n",
    "    return result\n",
    "\n",
    "\n",
    "## Driver code\n",
    "num = 1\n",
    "## function calling\n",
    "result = perfectSquare(num)\n",
    "print(result)"
   ]
  },
  {
   "cell_type": "code",
   "execution_count": 20,
   "id": "bf152300-40f4-4ea3-b65c-7374a1375160",
   "metadata": {},
   "outputs": [
    {
     "name": "stdout",
     "output_type": "stream",
     "text": [
      "True\n"
     ]
    }
   ],
   "source": [
    "## Method definaton\n",
    "## Time Complexity: O(logn)\n",
    "## Space Complexity: O(1)\n",
    "\n",
    "def perfectSquareSolution2(num):\n",
    "    \n",
    "    # square of an value ranges from 1 to n/2\n",
    "    low, high = 1, num//2\n",
    "    \n",
    "    # loop \n",
    "    while low <= high:\n",
    "        ## Divide the search space\n",
    "        mid = low + (high - low) // 2\n",
    "        \n",
    "        ## perfect square condtion\n",
    "        if mid * mid == num:\n",
    "            return True\n",
    "        ## Move towards right sub tree\n",
    "        elif mid*mid < num:\n",
    "            low = mid + 1\n",
    "        \n",
    "        ## Move towards right sub tree\n",
    "        else:\n",
    "            high = mid - 1\n",
    "            \n",
    "    return False\n",
    "\n",
    "\n",
    "## Driver code\n",
    "num = 9\n",
    "## function calling\n",
    "result = perfectSquareSolution2(num)\n",
    "print(result)"
   ]
  },
  {
   "cell_type": "code",
   "execution_count": null,
   "id": "e2d6426e-c555-4f5b-baac-299260ffaab1",
   "metadata": {},
   "outputs": [],
   "source": []
  }
 ],
 "metadata": {
  "kernelspec": {
   "display_name": "Python 3 (ipykernel)",
   "language": "python",
   "name": "python3"
  },
  "language_info": {
   "codemirror_mode": {
    "name": "ipython",
    "version": 3
   },
   "file_extension": ".py",
   "mimetype": "text/x-python",
   "name": "python",
   "nbconvert_exporter": "python",
   "pygments_lexer": "ipython3",
   "version": "3.10.8"
  }
 },
 "nbformat": 4,
 "nbformat_minor": 5
}
